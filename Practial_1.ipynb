{
  "nbformat": 4,
  "nbformat_minor": 0,
  "metadata": {
    "colab": {
      "provenance": [],
      "collapsed_sections": []
    },
    "kernelspec": {
      "name": "python3",
      "display_name": "Python 3"
    },
    "language_info": {
      "name": "python"
    }
  },
  "cells": [
    {
      "cell_type": "markdown",
      "source": [
        "**MATRIX MULTIPLICATION, EIGEN VECTORS, EIGENVALUE COMPUTATION USING TENSORFLOW**"
      ],
      "metadata": {
        "id": "EGg2_zAuptbg"
      }
    },
    {
      "cell_type": "code",
      "source": [
        "import tensorflow as tf\n",
        "print(\"Matrix Multiplication Demo\")\n",
        "x=tf.constant([1,2,3,4,5,6],shape=[2,3])\n",
        "print(x)\n",
        "y=tf.constant([7,8,9,10,11,12],shape=[3,2])\n",
        "print(y)\n",
        "z=tf.matmul(x,y)\n",
        "print(\"product:\",z)\n",
        "e_matrix_A=tf.random.uniform([2,2],minval=3,maxval=10,dtype=tf.float32,name=\"matrixA\")\n",
        "print(\"Matrix A:\\n{}\\n\\n\".format(e_matrix_A))\n",
        "eigen_values_A,eigen_vectors_A=tf.linalg.eigh(e_matrix_A)\n",
        "print(\"Eigen Vectors:\\n{}\\n\\nEigen values:\\n{}\\n\".format(eigen_vectors_A,eigen_values_A))"
      ],
      "metadata": {
        "colab": {
          "base_uri": "https://localhost:8080/"
        },
        "id": "4oiQdJtLp1rH",
        "outputId": "c2937365-deaa-4d08-e7bb-0a6e2a692e47"
      },
      "execution_count": null,
      "outputs": [
        {
          "output_type": "stream",
          "name": "stdout",
          "text": [
            "Matrix Multiplication Demo\n",
            "tf.Tensor(\n",
            "[[1 2 3]\n",
            " [4 5 6]], shape=(2, 3), dtype=int32)\n",
            "tf.Tensor(\n",
            "[[ 7  8]\n",
            " [ 9 10]\n",
            " [11 12]], shape=(3, 2), dtype=int32)\n",
            "product: tf.Tensor(\n",
            "[[ 58  64]\n",
            " [139 154]], shape=(2, 2), dtype=int32)\n",
            "Matrix A:\n",
            "[[6.3023767 9.178875 ]\n",
            " [8.100054  9.859907 ]]\n",
            "\n",
            "\n",
            "Eigen Vectors:\n",
            "[[-0.7792588 -0.6267023]\n",
            " [ 0.6267023 -0.7792588]]\n",
            "\n",
            "Eigen values:\n",
            "[-0.21191987 16.374205  ]\n",
            "\n"
          ]
        }
      ]
    },
    {
      "cell_type": "code",
      "execution_count": null,
      "metadata": {
        "id": "pMaQcNaGpN42"
      },
      "outputs": [],
      "source": []
    }
  ]
}